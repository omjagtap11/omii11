{
 "cells": [
  {
   "cell_type": "code",
   "execution_count": 4,
   "id": "f2868a54-12b2-4979-9e0f-a815864b8e01",
   "metadata": {},
   "outputs": [],
   "source": [
    "import numpy as np \n",
    "X1 = np.array([[1, -1, 1, -1]])\n",
    "X2 = np.array([[-1, -1, 1, 1]])\n",
    "X3 = np.array([[1, 1, -1, -1]])\n",
    "X4 = np.array([[1, 1, 1, 1]])\n",
    "X = [X1, X2, X3, X4]"
   ]
  },
  {
   "cell_type": "code",
   "execution_count": 5,
   "id": "e77e3998-f3c1-49b1-afb8-50956c57d8de",
   "metadata": {},
   "outputs": [],
   "source": [
    "Y1 = np.array([[1, 0, 1]])\n",
    "Y2 = np.array([[1, 1, 1]])\n",
    "Y3 = np.array([[0, 1, 1]])\n",
    "Y4 = np.array([[1, 1, 0]])\n",
    "\n",
    "Y = [Y1, Y2, Y3, Y4]\n"
   ]
  },
  {
   "cell_type": "code",
   "execution_count": 6,
   "id": "266d650e-656c-4c37-b680-7572ecda23a3",
   "metadata": {},
   "outputs": [],
   "source": [
    "def calc_weight(X, Y):\n",
    "    return np.dot(X.T, Y)"
   ]
  },
  {
   "cell_type": "code",
   "execution_count": 7,
   "id": "b7c4f63a-8957-4ab2-9a26-d327c80e4f2f",
   "metadata": {},
   "outputs": [],
   "source": [
    "def calculate_weights(X, Y):\n",
    "    weights = []\n",
    "    for i in range(len(X)):\n",
    "        weights.append(calc_weight(X[i], Y[i]))\n",
    "    return weights\n",
    "\n",
    "weights = calculate_weights(X, Y)"
   ]
  },
  {
   "cell_type": "code",
   "execution_count": 9,
   "id": "832f5b97-269b-4b00-b92d-fa5e146b86ff",
   "metadata": {},
   "outputs": [],
   "source": [
    "def forward_propagation(X, W):\n",
    "    result = []\n",
    "    for i in range(len(X)):\n",
    "        result.append(X[i] @ W[i])\n",
    "    return np.squeeze(result)\n",
    "\n",
    "def Activation(X):\n",
    "    X = np.array(X)\n",
    "    X[ X > 0] = 1\n",
    "    X[ X == 0] = 0\n",
    "    X[ X < 0] = -1\n",
    "    return X"
   ]
  },
  {
   "cell_type": "code",
   "execution_count": 11,
   "id": "5b4c54bb-0267-4dcb-84d3-c4348fd79e76",
   "metadata": {},
   "outputs": [
    {
     "name": "stdout",
     "output_type": "stream",
     "text": [
      "Forward Propagation Output: [[1 0 1]\n",
      " [1 1 1]\n",
      " [0 1 1]\n",
      " [1 1 0]]\n"
     ]
    }
   ],
   "source": [
    "forward_result = forward_propagation(X, weights)\n",
    "print(\"Forward Propagation Output:\", Activation(forward_result))"
   ]
  },
  {
   "cell_type": "code",
   "execution_count": 13,
   "id": "e3b3a2de-cac8-4acc-b891-70bd2ab502a5",
   "metadata": {},
   "outputs": [],
   "source": [
    "def backward_propagation(X, W):\n",
    "    result=[]\n",
    "    \n",
    "    for i in range(len(X)):\n",
    "        result.append(W[i] @ X[i].T)\n",
    "    return np.squeeze(result)\n",
    "    "
   ]
  },
  {
   "cell_type": "code",
   "execution_count": 14,
   "id": "0a626f83-9d4a-440d-bf0b-3296e69c8ebe",
   "metadata": {},
   "outputs": [
    {
     "name": "stdout",
     "output_type": "stream",
     "text": [
      "Backward Propagation Output: [[ 1 -1  1 -1]\n",
      " [-1 -1  1  1]\n",
      " [ 1  1 -1 -1]\n",
      " [ 1  1  1  1]]\n"
     ]
    }
   ],
   "source": [
    "backward_result = backward_propagation(Y,weights)\n",
    "print(\"Backward Propagation Output:\",Activation(backward_result))"
   ]
  },
  {
   "cell_type": "code",
   "execution_count": null,
   "id": "4301e2ba-8888-458d-b17d-9dc93bf049ad",
   "metadata": {},
   "outputs": [],
   "source": []
  }
 ],
 "metadata": {
  "kernelspec": {
   "display_name": "Python 3 (ipykernel)",
   "language": "python",
   "name": "python3"
  },
  "language_info": {
   "codemirror_mode": {
    "name": "ipython",
    "version": 3
   },
   "file_extension": ".py",
   "mimetype": "text/x-python",
   "name": "python",
   "nbconvert_exporter": "python",
   "pygments_lexer": "ipython3",
   "version": "3.12.7"
  }
 },
 "nbformat": 4,
 "nbformat_minor": 5
}

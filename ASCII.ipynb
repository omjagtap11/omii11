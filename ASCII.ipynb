{
 "cells": [
  {
   "cell_type": "code",
   "execution_count": 1,
   "id": "759fe552-3902-4826-8732-07cb6897789f",
   "metadata": {},
   "outputs": [],
   "source": [
    "import numpy as np "
   ]
  },
  {
   "cell_type": "code",
   "execution_count": 2,
   "id": "ff818060-f97a-46cb-9c6e-24b6bdc4a70c",
   "metadata": {},
   "outputs": [
    {
     "name": "stdin",
     "output_type": "stream",
     "text": [
      "Enter the number(0-9): 5\n"
     ]
    },
    {
     "name": "stdout",
     "output_type": "stream",
     "text": [
      "5 is odd\n"
     ]
    }
   ],
   "source": [
    "try:\n",
    "    user_input = input(\"Enter the number(0-9):\")\n",
    "    j = int(user_input)\n",
    "    if j<0 or j>9:\n",
    "        raise ValueError(\"Number out of range\")\n",
    "except ValueError:\n",
    "    print(\"Invalid number! please enter tyhe number between 0 and 9 \")\n",
    "    exit()\n",
    "\n",
    "def step_function(x):\n",
    "    return 1 if x >= 0 else 0\n",
    "\n",
    "training_data = [\n",
    "    {'input':[1,1,0,0,0,0] , 'label':1},\n",
    "    {'input':[1,1,0,0,0,1] , 'label':0},\n",
    "    {'input':[1,1,0,0,1,0] , 'label':1},\n",
    "    {'input':[1,1,0,1,1,1] , 'label':0},\n",
    "    {'input':[1,1,0,1,0,0] , 'label':1},\n",
    "    {'input':[1,1,0,1,0,1] , 'label':0},\n",
    "    {'input':[1,1,0,1,1,0] , 'label':1},\n",
    "    {'input':[1,1,0,1,1,1] , 'label':0},\n",
    "    {'input':[1,1,1,0,0,0] , 'label':1},\n",
    "    {'input':[1,1,1,0,0,1] , 'label':0},\n",
    "]\n",
    "\n",
    "weights = np.array([0,0,0,0,0,1])\n",
    "\n",
    "for data in training_data:\n",
    "    input_vector = np.array(data['input'])\n",
    "    label = data['label']\n",
    "    output = step_function(np.dot(input_vector,weights))\n",
    "    error = label - output\n",
    "    weights += input_vector * error \n",
    "\n",
    "binary_str = '{0:06b}'.format(j)\n",
    "\n",
    "input_vector = np.array([int(bit) for bit in binary_str])\n",
    "\n",
    "weighted_sum = np.dot(input_vector,weights)\n",
    "\n",
    "result = \"even\" if step_function(weighted_sum) ==  1 else \"odd\"\n",
    "\n",
    "print(j, \"is\", result)\n",
    "                            "
   ]
  },
  {
   "cell_type": "code",
   "execution_count": null,
   "id": "1f7bde69-ab76-418d-b941-d0e61d53903b",
   "metadata": {},
   "outputs": [],
   "source": []
  }
 ],
 "metadata": {
  "kernelspec": {
   "display_name": "Python 3 (ipykernel)",
   "language": "python",
   "name": "python3"
  },
  "language_info": {
   "codemirror_mode": {
    "name": "ipython",
    "version": 3
   },
   "file_extension": ".py",
   "mimetype": "text/x-python",
   "name": "python",
   "nbconvert_exporter": "python",
   "pygments_lexer": "ipython3",
   "version": "3.12.7"
  }
 },
 "nbformat": 4,
 "nbformat_minor": 5
}

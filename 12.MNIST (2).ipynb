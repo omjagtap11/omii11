{
 "cells": [
  {
   "cell_type": "code",
   "execution_count": 13,
   "id": "75cbd26d-4d4b-46f1-a76d-524de2ea6050",
   "metadata": {},
   "outputs": [],
   "source": [
    "import numpy as np\n",
    "import tensorflow as tf\n",
    "from tensorflow.keras import datasets, layers, models\n",
    "import matplotlib.pyplot as plt"
   ]
  },
  {
   "cell_type": "code",
   "execution_count": 14,
   "id": "e2e1cfbc-54fa-4f3c-9bd5-6035abde25fe",
   "metadata": {},
   "outputs": [],
   "source": [
    "(x_train, y_train), (x_test, y_test) = datasets.mnist.load_data()"
   ]
  },
  {
   "cell_type": "code",
   "execution_count": 15,
   "id": "fb8e48eb-0d37-412f-b9ec-1f24c706b640",
   "metadata": {},
   "outputs": [
    {
     "data": {
      "text/plain": [
       "((60000, 28, 28), (60000,), (10000, 28, 28), (10000,))"
      ]
     },
     "execution_count": 15,
     "metadata": {},
     "output_type": "execute_result"
    }
   ],
   "source": [
    "x_train.shape, y_train.shape, x_test.shape, y_test.shape"
   ]
  },
  {
   "cell_type": "code",
   "execution_count": 16,
   "id": "15d0999d-1737-4396-919a-e3a227e6bca1",
   "metadata": {},
   "outputs": [],
   "source": [
    "x_train=x_train/255.0\n",
    "x_test=x_test/255.0"
   ]
  },
  {
   "cell_type": "code",
   "execution_count": 17,
   "id": "fceef9a8-ca39-49e7-80b2-555af76c32c1",
   "metadata": {},
   "outputs": [
    {
     "data": {
      "text/plain": [
       "array([0., 0., 0., ..., 0., 0., 0.])"
      ]
     },
     "execution_count": 17,
     "metadata": {},
     "output_type": "execute_result"
    }
   ],
   "source": [
    "x_train.reshape(-1,)\n",
    "x_test.reshape(-1,)"
   ]
  },
  {
   "cell_type": "code",
   "execution_count": 18,
   "id": "9cd370a7-4d6f-4f9c-bcda-4be7439a89e4",
   "metadata": {},
   "outputs": [],
   "source": [
    "def plot_sample(X, y, index):\n",
    "    plt.figure(figsize = (15,2))\n",
    "    plt.imshow(X[index])\n",
    "    plt.xlabel([y[index]])"
   ]
  },
  {
   "cell_type": "code",
   "execution_count": 19,
   "id": "9054268d-bfe1-475f-af99-37e2d6e84e52",
   "metadata": {},
   "outputs": [
    {
     "data": {
      "image/png": "[encoded data removed]",
      "text/plain": [
       "<Figure size 1500x200 with 1 Axes>"
      ]
     },
     "metadata": {},
     "output_type": "display_data"
    },
    {
     "data": {
      "image/png": "[encoded data removed]",
      "text/plain": [
       "<Figure size 1500x200 with 1 Axes>"
      ]
     },
     "metadata": {},
     "output_type": "display_data"
    }
   ],
   "source": [
    "plot_sample(x_train, y_train, 5), \n",
    "plot_sample(x_train, y_train, 10)"
   ]
  },
  {
   "cell_type": "code",
   "execution_count": 20,
   "id": "5472a95b-8a7f-41b8-89f6-c2106798edd8",
   "metadata": {},
   "outputs": [
    {
     "name": "stderr",
     "output_type": "stream",
     "text": [
      "C:\\Users\\Rushikesh\\anaconda3\\Lib\\site-packages\\keras\\src\\layers\\reshaping\\flatten.py:37: UserWarning: Do not pass an `input_shape`/`input_dim` argument to a layer. When using Sequential models, prefer using an `Input(shape)` object as the first layer in the model instead.\n",
      "  super().__init__(**kwargs)\n"
     ]
    }
   ],
   "source": [
    "ann_model = models.Sequential([\n",
    "    layers.Flatten(input_shape = (28,28)),\n",
    "    layers.Dense(100,activation='relu'),\n",
    "    layers.Dense(150,activation='relu'),\n",
    "    layers.Dense(10,activation='softmax')\n",
    "])"
   ]
  },
  {
   "cell_type": "code",
   "execution_count": 22,
   "id": "f6a2a4f7-659d-4073-b1f2-21cdcacb5577",
   "metadata": {},
   "outputs": [],
   "source": [
    "ann_model.compile(\n",
    "    optimizer='SGD',\n",
    "    loss='sparse_categorical_crossentropy',\n",
    "    metrics=['accuracy']\n",
    ")"
   ]
  },
  {
   "cell_type": "code",
   "execution_count": 23,
   "id": "39c6671b-e73d-4439-b3e1-89df80fadab4",
   "metadata": {},
   "outputs": [
    {
     "name": "stdout",
     "output_type": "stream",
     "text": [
      "Epoch 1/5\n",
      "\u001b[1m750/750\u001b[0m \u001b[32m━━━━━━━━━━━━━━━━━━━━\u001b[0m\u001b[37m\u001b[0m \u001b[1m5s\u001b[0m 5ms/step - accuracy: 0.5712 - loss: 1.5550 - val_accuracy: 0.8819 - val_loss: 0.4560\n",
      "Epoch 2/5\n",
      "\u001b[1m750/750\u001b[0m \u001b[32m━━━━━━━━━━━━━━━━━━━━\u001b[0m\u001b[37m\u001b[0m \u001b[1m4s\u001b[0m 5ms/step - accuracy: 0.8788 - loss: 0.4472 - val_accuracy: 0.9048 - val_loss: 0.3403\n",
      "Epoch 3/5\n",
      "\u001b[1m750/750\u001b[0m \u001b[32m━━━━━━━━━━━━━━━━━━━━\u001b[0m\u001b[37m\u001b[0m \u001b[1m4s\u001b[0m 5ms/step - accuracy: 0.9008 - loss: 0.3525 - val_accuracy: 0.9159 - val_loss: 0.2971\n",
      "Epoch 4/5\n",
      "\u001b[1m750/750\u001b[0m \u001b[32m━━━━━━━━━━━━━━━━━━━━\u001b[0m\u001b[37m\u001b[0m \u001b[1m3s\u001b[0m 5ms/step - accuracy: 0.9134 - loss: 0.3090 - val_accuracy: 0.9221 - val_loss: 0.2726\n",
      "Epoch 5/5\n",
      "\u001b[1m750/750\u001b[0m \u001b[32m━━━━━━━━━━━━━━━━━━━━\u001b[0m\u001b[37m\u001b[0m \u001b[1m4s\u001b[0m 5ms/step - accuracy: 0.9209 - loss: 0.2821 - val_accuracy: 0.9272 - val_loss: 0.2553\n"
     ]
    }
   ],
   "source": [
    "history = ann_model.fit(x_train, y_train, validation_split=0.2, batch_size=64, epochs=5)"
   ]
  },
  {
   "cell_type": "code",
   "execution_count": 27,
   "id": "3aa47836-5569-49f7-934a-d3824ea91050",
   "metadata": {},
   "outputs": [
    {
     "name": "stdout",
     "output_type": "stream",
     "text": [
      "\u001b[1m1875/1875\u001b[0m \u001b[32m━━━━━━━━━━━━━━━━━━━━\u001b[0m\u001b[37m\u001b[0m \u001b[1m5s\u001b[0m 3ms/step\n",
      "Classification report of training: \n",
      "               precision    recall  f1-score   support\n",
      "\n",
      "           0       0.95      0.97      0.96      5923\n",
      "           1       0.95      0.97      0.96      6742\n",
      "           2       0.91      0.91      0.91      5958\n",
      "           3       0.92      0.89      0.91      6131\n",
      "           4       0.93      0.92      0.93      5842\n",
      "           5       0.93      0.86      0.89      5421\n",
      "           6       0.93      0.96      0.95      5918\n",
      "           7       0.94      0.93      0.94      6265\n",
      "           8       0.89      0.91      0.90      5851\n",
      "           9       0.89      0.91      0.90      5949\n",
      "\n",
      "    accuracy                           0.93     60000\n",
      "   macro avg       0.92      0.92      0.92     60000\n",
      "weighted avg       0.93      0.93      0.92     60000\n",
      "\n"
     ]
    }
   ],
   "source": [
    "from sklearn.metrics import classification_report\n",
    "\n",
    "y_pred = ann_model.predict(x_train)\n",
    "y_pred_classes = [np.argmax(num) for num in y_pred]\n",
    "\n",
    "print(\"Classification report of training: \\n\", classification_report(y_train, y_pred_classes))"
   ]
  },
  {
   "cell_type": "code",
   "execution_count": 43,
   "id": "b4a4ddf5-f30c-4594-89d4-604b60cf2427",
   "metadata": {},
   "outputs": [],
   "source": [
    "def graph(accuracy, loss, epochs):\n",
    "    plt.figure(figsize=(10, 4))\n",
    "    plt.plot(epochs, accuracy, 'b', label='Training Accuracy')\n",
    "    plt.plot(epochs, loss, 'r', label='Training Loss')\n",
    "    plt.title('Accuracy Graph')\n",
    "    plt.xlabel('Epochs')\n",
    "    plt.ylabel('Accuracy/Loss')\n",
    "    plt.legend()\n",
    "    plt.show()"
   ]
  },
  {
   "cell_type": "code",
   "execution_count": 45,
   "id": "1b0d5396-01fc-4392-838f-e7bebdbfc380",
   "metadata": {
    "scrolled": true
   },
   "outputs": [
    {
     "data": {
      "image/png": "[encoded data removed]",
      "text/plain": [
       "<Figure size 1000x400 with 1 Axes>"
      ]
     },
     "metadata": {},
     "output_type": "display_data"
    }
   ],
   "source": [
    "n = len(history.history['accuracy'])\n",
    "graph(history.history['accuracy'], history.history['loss'], range(1, n+1))"
   ]
  },
  {
   "cell_type": "code",
   "execution_count": 37,
   "id": "36b6dcfb-bd02-4e0f-934a-0aa61b765094",
   "metadata": {},
   "outputs": [
    {
     "name": "stdout",
     "output_type": "stream",
     "text": [
      "\u001b[1m313/313\u001b[0m \u001b[32m━━━━━━━━━━━━━━━━━━━━\u001b[0m\u001b[37m\u001b[0m \u001b[1m1s\u001b[0m 4ms/step - accuracy: 0.9132 - loss: 0.2995\n"
     ]
    },
    {
     "data": {
      "text/plain": [
       "[0.26033759117126465, 0.9243999719619751]"
      ]
     },
     "execution_count": 37,
     "metadata": {},
     "output_type": "execute_result"
    }
   ],
   "source": [
    "ann_model.evaluate(x_test,y_test)"
   ]
  },
  {
   "cell_type": "code",
   "execution_count": 53,
   "id": "4be9cdee-9bbf-4410-956b-cd34e10f7ec0",
   "metadata": {},
   "outputs": [
    {
     "data": {
      "text/plain": [
       "<matplotlib.image.AxesImage at 0x1b884019cd0>"
      ]
     },
     "execution_count": 53,
     "metadata": {},
     "output_type": "execute_result"
    },
    {
     "data": {
      "image/png": "[encoded data removed]",
      "text/plain": [
       "<Figure size 640x480 with 1 Axes>"
      ]
     },
     "metadata": {},
     "output_type": "display_data"
    }
   ],
   "source": [
    "plt.imshow(x_test[100])"
   ]
  },
  {
   "cell_type": "code",
   "execution_count": 54,
   "id": "ecd5fe4b-0f46-4274-ae5a-5a7fc2815506",
   "metadata": {},
   "outputs": [
    {
     "data": {
      "text/plain": [
       "6"
      ]
     },
     "execution_count": 54,
     "metadata": {},
     "output_type": "execute_result"
    }
   ],
   "source": [
    "y_test[100]"
   ]
  },
  {
   "cell_type": "code",
   "execution_count": null,
   "id": "ccf12ee7-ad8e-49ad-b9b4-746e6c91e499",
   "metadata": {},
   "outputs": [],
   "source": []
  }
 ],
 "metadata": {
  "kernelspec": {
   "display_name": "Python 3 (ipykernel)",
   "language": "python",
   "name": "python3"
  },
  "language_info": {
   "codemirror_mode": {
    "name": "ipython",
    "version": 3
   },
   "file_extension": ".py",
   "mimetype": "text/x-python",
   "name": "python",
   "nbconvert_exporter": "python",
   "pygments_lexer": "ipython3",
   "version": "3.12.7"
  }
 },
 "nbformat": 4,
 "nbformat_minor": 5
}

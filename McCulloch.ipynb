{
 "cells": [
  {
   "cell_type": "code",
   "execution_count": 5,
   "id": "16d2f7ea-8e6f-4d7d-bf0c-327119ba1a03",
   "metadata": {},
   "outputs": [],
   "source": [
    "import numpy as np "
   ]
  },
  {
   "cell_type": "code",
   "execution_count": 6,
   "id": "4bf6e520-5f9a-4bf1-a1ad-c902fc6d6460",
   "metadata": {},
   "outputs": [
    {
     "name": "stdout",
     "output_type": "stream",
     "text": [
      "x1\tx2\tw1\tw2\tt\tANDNOT\n",
      "--------------------------------------------\n",
      "0\t0\t1\t-1\t0.73\t0\n",
      "0\t1\t1\t-1\t0.73\t0\n",
      "1\t0\t1\t-1\t0.73\t1\n",
      "1\t1\t1\t-1\t0.73\t0\n"
     ]
    }
   ],
   "source": [
    "def output(x1, x2, w1, w2, t):\n",
    "    print(\"x1\\tx2\\tw1\\tw2\\tt\\tANDNOT\")\n",
    "    print(\"--------------------------------------------\")\n",
    "    for i in range(len(x1)):\n",
    "        ANDNOT = muculloch_pitts(x1[i], x2[i], w1, w2, t)\n",
    "        print(f\"{x1[i]}\\t{x2[i]}\\t{w1}\\t{w2}\\t{t}\\t{ANDNOT}\")\n",
    "def sigmoid(x):\n",
    "    return 1 / (1 + np.exp(-x))\n",
    "\n",
    "\n",
    "def muculloch_pitts(x1, x2, w1, w2, t):\n",
    "    \n",
    "    weighted_sum = x1 * w1 + x2 * w2\n",
    "    \n",
    " \n",
    "    sigmoid_output = sigmoid(weighted_sum)\n",
    "\n",
    "    \n",
    "    \n",
    "  \n",
    "    if sigmoid_output > t:\n",
    "        output = 1\n",
    "    else:\n",
    "        output = 0\n",
    "\n",
    "    return output\n",
    "x1 = [0, 0, 1, 1]\n",
    "x2 = [0, 1, 0, 1]\n",
    "w1 = 1\n",
    "w2 = -1\n",
    "t = 0.73  \n",
    "output(x1, x2, w1, w2, t)"
   ]
  },
  {
   "cell_type": "code",
   "execution_count": null,
   "id": "212e40e9-8205-4f6b-a4a3-6cf3e5dca8b1",
   "metadata": {},
   "outputs": [],
   "source": []
  }
 ],
 "metadata": {
  "kernelspec": {
   "display_name": "Python 3 (ipykernel)",
   "language": "python",
   "name": "python3"
  },
  "language_info": {
   "codemirror_mode": {
    "name": "ipython",
    "version": 3
   },
   "file_extension": ".py",
   "mimetype": "text/x-python",
   "name": "python",
   "nbconvert_exporter": "python",
   "pygments_lexer": "ipython3",
   "version": "3.12.7"
  }
 },
 "nbformat": 4,
 "nbformat_minor": 5
}
